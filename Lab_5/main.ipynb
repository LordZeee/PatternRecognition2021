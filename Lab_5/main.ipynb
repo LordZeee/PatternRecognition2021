{
 "cells": [
  {
   "cell_type": "code",
   "execution_count": 11,
   "id": "41994d5f-af78-4de0-a4f2-c999ccb45131",
   "metadata": {},
   "outputs": [],
   "source": [
    "import glob\n",
    "import os \n",
    "import string\n",
    "import requests\n",
    "\n",
    "import numpy as np\n",
    "import pandas as pd\n",
    "\n",
    "from PIL import  Image\n",
    "import matplotlib.pyplot as plt "
   ]
  },
  {
   "cell_type": "code",
   "execution_count": 3,
   "id": "18edda83",
   "metadata": {},
   "outputs": [],
   "source": [
    "df_emnist = pd.read_csv(\"./emnist-letters-train.csv\", header = None)"
   ]
  },
  {
   "cell_type": "code",
   "execution_count": 176,
   "id": "d560acb2",
   "metadata": {},
   "outputs": [],
   "source": [
    "def create_etalons(df_emnist, knumber, image_size = 28, space = False):\n",
    "    emnist_samples = df_emnist.sample(1000).drop_duplicates(0).sort_values(0)[:knumber]\n",
    "    plt.imshow(emnist_samples.iloc[:knumber, 1:].values.reshape(image_size * knumber, image_size).T)\n",
    "    # print(emnist_samples[0])\n",
    "    # emnist_samples[0] = range(knumber)\n",
    "    etalons_dict = {index : item[1:].reshape(28,28).T for index, item in enumerate(emnist_samples.values)}\n",
    "    etalons_strings = {list(string.ascii_uppercase)[item - 1] : index for index, item in enumerate(emnist_samples.values[:, 0])}\n",
    "    etalons_strings_inverse = {index : list(string.ascii_uppercase)[item - 1]for index, item in enumerate(emnist_samples.values[:, 0])}\n",
    "    if space:\n",
    "        etalons_dict[knumber] = np.zeros([28, 28])\n",
    "        etalons_strings_inverse[knumber] = ' '\n",
    "        etalons_strings[' '] = knumber \n",
    "    print(etalons_strings)\n",
    "    return etalons_dict, etalons_strings, etalons_strings_inverse"
   ]
  },
  {
   "cell_type": "code",
   "execution_count": 241,
   "id": "6ddf1215",
   "metadata": {},
   "outputs": [],
   "source": [
    "def image_stack(list_images): \n",
    "    return np.hstack(list_images)\n",
    "\n",
    "def show_etalons(etalons_dict, write_on = False):\n",
    "    if write_on: plt.imsave('./etalons.png', image_stack([item[1] for item in sorted(etalons_dict.items())]))\n",
    "    plt.imshow(concat_images([item[1] for item in sorted(etalons_dict.items())]))\n",
    "    \n",
    "def string_convert(text_str, etalons_dict, etalons_strings):\n",
    "    input_text = list(text_str.upper())\n",
    "    return image_stack([etalons_dict[etalons_strings[character]] for character in input_text if character in etalons_strings.keys()])\n",
    "\n",
    "def get_noisy(image, mu, sigma): \n",
    "    row, col = image.shape\n",
    "    gauss = np.random.normal(mu, sigma,(row, col))\n",
    "    gauss = gauss.reshape(row, col)\n",
    "    noisy = image + gauss\n",
    "    return noisy % 255"
   ]
  },
  {
   "cell_type": "code",
   "execution_count": 242,
   "id": "a7f365c0",
   "metadata": {},
   "outputs": [
    {
     "data": {
      "text/plain": [
       "array([71, 72, 25, 69,  0, 61, 47, 56,  4, 98, 23, 29, 62,  9, 80, 46, 57,\n",
       "       19, 51, 12])"
      ]
     },
     "execution_count": 242,
     "metadata": {},
     "output_type": "execute_result"
    }
   ],
   "source": [
    "np.random.randint(0, 100, 20)"
   ]
  },
  {
   "cell_type": "code",
   "execution_count": 256,
   "id": "3dbe49a9",
   "metadata": {},
   "outputs": [],
   "source": [
    "def read_sample_text(path, etalons):\n",
    "    with open(path, 'r') as file:\n",
    "        text = ''.join([i for i in list(' '.join(file.readlines()).upper()) if i in etalons.keys()])\n",
    "        diff = set(text).difference(etalons.keys())\n",
    "        if len(diff) > 0:\n",
    "            raise Exception(f\"Next characters are missing or excess - {diff} .\")\n",
    "        else: return text\n",
    "\n",
    "\n",
    "def prepare_dataset(sample_text, etalons_dict, etalons_strings, mu = 0, sigma = 10, nsamples = 110, sample_size = 100):\n",
    "    chunk_size = 25\n",
    "    chunks = [sample_text[i:i + chunk_size] for i in range(0, len(sample_text), chunk_size)][:-1]\n",
    "    nchunks = len(chunks)\n",
    "    dataset = []\n",
    "    test_dataset = []\n",
    "    train_dataset = [] \n",
    "    for i in range(nsamples):\n",
    "        y_idx = np.random.randint(0, nchunks, 4)\n",
    "        y_values = ''.join([chunks[index] for index in y_idx])\n",
    "        x_values = string_convert(y_values, etalons_dict, etalons_strings)\n",
    "        x_noised = get_noisy(x_values, mu = mu, sigma = sigma)\n",
    "        test_dataset.append([y_values, x_noised]) if i < 100 else train_dataset.append([y_values, x_noised])\n",
    " \n",
    "    # chunk_size = 100\n",
    "    # chunks = [sample_text[i:i + chunk_size] for i in range(0, len(sample_text), chunk_size)][:-1]\n",
    "    # print(chunks)\n",
    "    # for j in range(10):\n",
    "    #     y_train_values = ''.join(chunks[j])\n",
    "    #     x_train_values = string_convert(y_train_values, etalons_dict, etalons_strings)\n",
    "    #     x_noised_values = get_noisy(x_train_values, mu = mu, sigma = sigma)\n",
    "    #     train_dataset.append([y_train_values, x_noised_values])\n",
    "\n",
    "    return train_dataset, test_dataset"
   ]
  },
  {
   "cell_type": "code",
   "execution_count": 257,
   "id": "e8b0419b",
   "metadata": {},
   "outputs": [],
   "source": [
    "def get_alpha(alpha, k, image_size):\n",
    "    return alpha[k * image_size: (k + 1) * image_size]\n",
    "\n",
    "def get_x(X, index, image_size):\n",
    "    return X[index * image_size: (index + 1) * image_size]\n",
    "\n",
    "def transform(X):\n",
    "    return np.ravel(X)\n",
    "\n",
    "def get_pos(label, image_size):\n",
    "    return label * image_size, (label + 1) * image_size\n",
    "\n",
    "def fit(train_df, etalons, image_size, text_size):\n",
    "    K_ = len(etalons.keys())\n",
    "    alpha_size = K_ * image_size**2\n",
    "    \n",
    "    alpha = np.zeros(alpha_size)\n",
    "    corrections = 1\n",
    "    while (corrections > 0):\n",
    "        corrections = 0\n",
    "        for index, item in enumerate(train_df):\n",
    "            labels, x_train = item[0], item[1]\n",
    "            X_item = transform(x_train)\n",
    "            for _i in range(text_size):\n",
    "                # print(_i)\n",
    "                real_label = etalons[labels[_i]]\n",
    "                # print(real_label)\n",
    "                current_x = get_x(X_item, _i, image_size**2)\n",
    "                alpha_current = get_alpha(alpha, real_label, image_size**2)\n",
    "                # print(X_item)\n",
    "                value_ = np.dot(alpha_current, current_x)\n",
    "                # print(alpha_current.mean())    \n",
    "                # print(value_)\n",
    "                for k_j in etalons.values():\n",
    "                    if k_j == real_label:\n",
    "                        continue\n",
    "                    alpha_j = get_alpha(alpha, k_j, image_size**2)\n",
    "                    value_j = np.dot(alpha_j, current_x)\n",
    "                    if value_ <= value_j:\n",
    "                        corrections += 1\n",
    "                        \n",
    "                        # pos_start, pos_end = get_pos(real_label, image_size**2)\n",
    "                        alpha[real_label * image_size**2: (real_label + 1) * image_size**2] += current_x\n",
    "                        alpha[k_j * image_size**2 : (k_j + 1) * image_size**2] -= current_x \n",
    "        print(corrections)\n",
    "        \n",
    "    return alpha\n"
   ]
  },
  {
   "cell_type": "code",
   "execution_count": 258,
   "id": "02939326",
   "metadata": {},
   "outputs": [],
   "source": [
    "def predict(test_df, alpha, etalons, image_size, text_size):\n",
    "    results = []\n",
    "    for item in test_df:\n",
    "        label, x_test = item[0], item[1]\n",
    "        predicted_label = []\n",
    "        for _i in range(text_size):\n",
    "                X_item = transform(x_test)\n",
    "                current_x = get_x(X_item, _i, image_size**2)\n",
    "                values = np.zeros(len(etalons.keys()))\n",
    "                for k in etalons.keys():\n",
    "                    alpha_current = get_alpha(alpha, etalons[k], image_size**2)\n",
    "                    values[etalons[k]] = np.dot(alpha_current, current_x)\n",
    "                # print(np.argmax(values))\n",
    "                predicted_label.append(np.argmax(values))\n",
    "        results.append((pd.concat([pd.Series(list(label)),pd.Series(predicted_label).astype(int)], axis = 1)))\n",
    "        # results.append((pd.concat([pd.Series(list(label)).apply(lambda x : etalons_strings[x]),pd.Series(predicted_label).astype(int)], axis = 1)))\n",
    "    return results"
   ]
  },
  {
   "cell_type": "code",
   "execution_count": 259,
   "id": "94c26222",
   "metadata": {},
   "outputs": [],
   "source": [
    "def plot_results(test_df, predicted, _inverse_dict, etalons_dict, etalons_strings,):\n",
    "    predicted_ = predicted[1].apply(lambda x : _inverse_dict[x])\n",
    "    result = np.zeros((28,28 * 100))\n",
    "    for i in range(len(test_df)):\n",
    "        corrupted_image = test_df[i][1]\n",
    "        clear_predicted = string_convert(''.join(predicted_[i:(i+1) * 100]), etalons_dict, etalons_strings)[:, -2800:]\n",
    "        result = np.vstack([result, np.vstack([corrupted_image, clear_predicted])])\n",
    "    return result"
   ]
  },
  {
   "cell_type": "code",
   "execution_count": 301,
   "id": "4c9d4e3b",
   "metadata": {},
   "outputs": [
    {
     "name": "stdout",
     "output_type": "stream",
     "text": [
      "{'A': 0, 'B': 1, 'C': 2, 'D': 3, 'E': 4, 'F': 5, 'G': 6, 'H': 7, 'I': 8, 'J': 9, 'K': 10, 'L': 11, 'M': 12, 'N': 13, 'O': 14, 'P': 15, 'Q': 16, 'R': 17, 'S': 18, 'T': 19, 'U': 20, 'V': 21, 'W': 22, 'X': 23, 'Y': 24, 'Z': 25, ' ': 26}\n"
     ]
    },
    {
     "data": {
      "image/png": "[encoded data removed]",
      "text/plain": [
       "<Figure size 432x288 with 1 Axes>"
      ]
     },
     "metadata": {
      "needs_background": "light"
     },
     "output_type": "display_data"
    }
   ],
   "source": [
    "etalons_dict, etalons_strings, etalons_strings_inv = create_etalons(df_emnist, 26, 28, True)"
   ]
  },
  {
   "cell_type": "code",
   "execution_count": 302,
   "id": "39f23117",
   "metadata": {},
   "outputs": [
    {
     "data": {
      "text/plain": [
       "<matplotlib.image.AxesImage at 0x7fb6f0d9bd00>"
      ]
     },
     "execution_count": 302,
     "metadata": {},
     "output_type": "execute_result"
    },
    {
     "data": {
      "image/png": "[encoded data removed]",
      "text/plain": [
       "<Figure size 432x288 with 1 Axes>"
      ]
     },
     "metadata": {
      "needs_background": "light"
     },
     "output_type": "display_data"
    }
   ],
   "source": [
    "test = \"Luke I am your Father\"\n",
    "test_image = string_convert(test, etalons_dict, etalons_strings)\n",
    "plt.imshow((test_image))"
   ]
  },
  {
   "cell_type": "code",
   "execution_count": 303,
   "id": "cc003b30",
   "metadata": {},
   "outputs": [
    {
     "name": "stdout",
     "output_type": "stream",
     "text": [
      "9006\n",
      "1480\n",
      "334\n",
      "86\n",
      "70\n",
      "34\n",
      "42\n",
      "16\n",
      "15\n",
      "10\n",
      "5\n",
      "3\n",
      "1\n",
      "0\n"
     ]
    }
   ],
   "source": [
    "input_text = read_sample_text('/home/vmalyniak/home/jupyter/pattern/Pattern_Rec2021/lab_5/dada_text.txt', etalons_strings)\n",
    "train_df, test_df = prepare_dataset(input_text, etalons_dict, etalons_strings, mu = 1,  sigma = 10)\n",
    "alpha1 = fit(train_df, etalons_strings, 28, 100)"
   ]
  },
  {
   "cell_type": "code",
   "execution_count": 304,
   "id": "0342a4db",
   "metadata": {},
   "outputs": [
    {
     "data": {
      "text/plain": [
       "<matplotlib.image.AxesImage at 0x7fb6f0d1d5e0>"
      ]
     },
     "execution_count": 304,
     "metadata": {},
     "output_type": "execute_result"
    },
    {
     "data": {
      "image/png": "[encoded data removed]",
      "text/plain": [
       "<Figure size 432x288 with 1 Axes>"
      ]
     },
     "metadata": {
      "needs_background": "light"
     },
     "output_type": "display_data"
    }
   ],
   "source": [
    "max_element = np.linalg.norm(alpha1, np.inf)\n",
    "alpha = alpha1 / max_element * 255\n",
    "alpha = (alpha + 255) / 2\n",
    "\n",
    "plt.imshow(get_alpha(alpha, 0, 28 * 28).reshape(28, 28))"
   ]
  },
  {
   "cell_type": "code",
   "execution_count": 305,
   "id": "83c9429d",
   "metadata": {},
   "outputs": [
    {
     "data": {
      "text/plain": [
       "0.1002"
      ]
     },
     "execution_count": 305,
     "metadata": {},
     "output_type": "execute_result"
    }
   ],
   "source": [
    "from sklearn.metrics import accuracy_score\n",
    "\n",
    "predicted = pd.concat(predict(test_df, alpha1, etalons_strings, 28, 100))\n",
    "accuracy_score(predicted[1], predicted[0].apply(lambda x : etalons_strings[x]))"
   ]
  },
  {
   "cell_type": "code",
   "execution_count": 306,
   "id": "c6279a1e",
   "metadata": {},
   "outputs": [],
   "source": [
    "result = plot_results(test_df, predicted, etalons_strings_inv,etalons_dict, etalons_strings)"
   ]
  },
  {
   "cell_type": "code",
   "execution_count": 307,
   "id": "67fa99b7",
   "metadata": {},
   "outputs": [],
   "source": [
    "plt.imsave('/home/vmalyniak/home/jupyter/pattern/Pattern_Rec2021/lab_5/result.jpg', result)"
   ]
  }
 ],
 "metadata": {
  "kernelspec": {
   "display_name": "Python (myenv)",
   "language": "python",
   "name": "python3-virtualenv"
  },
  "language_info": {
   "codemirror_mode": {
    "name": "ipython",
    "version": 3
   },
   "file_extension": ".py",
   "mimetype": "text/x-python",
   "name": "python",
   "nbconvert_exporter": "python",
   "pygments_lexer": "ipython3",
   "version": "3.9.5"
  }
 },
 "nbformat": 4,
 "nbformat_minor": 5
}
